{
 "cells": [
  {
   "cell_type": "code",
   "execution_count": 81,
   "metadata": {},
   "outputs": [],
   "source": [
    "import torch\n",
    "import torch.nn as nn\n",
    "import torch.nn.functional as F\n",
    "\n",
    "from torch.utils.data import TensorDataset, DataLoader\n",
    "from sklearn.model_selection import train_test_split\n",
    "from sklearn.preprocessing import StandardScaler\n",
    "import numpy as np\n",
    "\n",
    "import zipfile\n",
    "import pandas as pd\n",
    "import os\n",
    "from tqdm import tqdm\n",
    "\n",
    "# Save the model\n",
    "modelPath = 'models/model2/'\n",
    "# change name modle here\n",
    "model_name = 'model2.pth'"
   ]
  },
  {
   "cell_type": "code",
   "execution_count": 82,
   "metadata": {},
   "outputs": [],
   "source": [
    "import os\n",
    "import pandas as pd\n",
    "\n",
    "path = 'ChengDuData'\n",
    "csv_files = [f for f in os.listdir(path) if f.endswith('.csv')]\n",
    "\n",
    "combined_dataframe = pd.DataFrame()\n",
    "\n",
    "for file in csv_files:\n",
    "    file_path = os.path.join(path, file)\n",
    "    temp_df = pd.read_csv(file_path)\n",
    "    \n",
    "    # Compute the average travel time\n",
    "    temp_df['Average_Travel_Time'] = temp_df.iloc[:, 8:59].mean(axis=1)\n",
    "    \n",
    "    # Extract time period information from file name\n",
    "    time_period = file.replace('.csv', '').replace('_', ' ')\n",
    "    temp_df['Time_Period'] = time_period\n",
    "\n",
    "    # Select relevant columns (optional, depending on your model requirements)\n",
    "    temp_df = temp_df[['Link', 'Node_Start', 'Longitude_Start', 'Latitude_Start', \n",
    "                       'Node_End', 'Longitude_End', 'Latitude_End', 'Length', \n",
    "                       'Average_Travel_Time', 'Time_Period']]\n",
    "    \n",
    "    combined_dataframe = pd.concat([combined_dataframe, temp_df], ignore_index=True)\n",
    "\n",
    "# Now combined_dataframe contains the processed data"
   ]
  },
  {
   "cell_type": "code",
   "execution_count": 83,
   "metadata": {},
   "outputs": [
    {
     "name": "stdout",
     "output_type": "stream",
     "text": [
      "   Link  Node_Start  Longitude_Start  Latitude_Start  Node_End  Longitude_End  \\\n",
      "0     0           0       103.946006       30.750660        16     103.952551   \n",
      "1     1           0       103.946006       30.750660        48     103.956494   \n",
      "2     2           0       103.946006       30.750660        64     103.941276   \n",
      "3     3           1       104.062539       30.739077       311     104.060024   \n",
      "4     4           1       104.062539       30.739077      1288     104.062071   \n",
      "\n",
      "   Latitude_End       Length  Average_Travel_Time       Time_Period  \n",
      "0     30.756752   921.041014            85.424151  Weekday Off peak  \n",
      "1     30.745080  1179.207157           125.386769  Weekday Off peak  \n",
      "2     30.754493   620.905375            53.618874  Weekday Off peak  \n",
      "3     30.742693   467.552294            40.787167  Weekday Off peak  \n",
      "4     30.732501   730.287581            77.209144  Weekday Off peak  \n"
     ]
    }
   ],
   "source": [
    "print(combined_dataframe.head())"
   ]
  },
  {
   "cell_type": "code",
   "execution_count": 84,
   "metadata": {},
   "outputs": [],
   "source": [
    "class TravelTimePredictor(nn.Module):\n",
    "    def __init__(self):\n",
    "        super(TravelTimePredictor, self).__init__()\n",
    "        self.fc1 = nn.Linear(in_features=8, out_features=64)  # Adjusted to match input size\n",
    "        self.fc2 = nn.Linear(in_features=64, out_features=32)\n",
    "        self.fc3 = nn.Linear(in_features=32, out_features=1)\n",
    "\n",
    "    def forward(self, x):\n",
    "        x = F.relu(self.fc1(x))\n",
    "        x = F.relu(self.fc2(x))\n",
    "        x = self.fc3(x)  # Linear output for regression\n",
    "        return x\n",
    "\n"
   ]
  },
  {
   "cell_type": "code",
   "execution_count": 85,
   "metadata": {},
   "outputs": [],
   "source": [
    "# Instantiate the model\n",
    "model = TravelTimePredictor()\n",
    "\n",
    "# Loss and Optimizer\n",
    "criterion = nn.MSELoss()\n",
    "optimizer = torch.optim.Adam(model.parameters(), lr=0.001)"
   ]
  },
  {
   "cell_type": "code",
   "execution_count": 86,
   "metadata": {},
   "outputs": [],
   "source": [
    "# Assuming 'combined_dataframe' is your DataFrame with the prepared data\n",
    "# Extracting features and target\n",
    "features = combined_dataframe.drop(['Average_Travel_Time', 'Time_Period'], axis=1).values\n",
    "target = combined_dataframe['Average_Travel_Time'].values\n",
    "\n",
    "# Normalizing the features\n",
    "scaler = StandardScaler()\n",
    "features = scaler.fit_transform(features)\n",
    "\n",
    "# Splitting data into training and test sets\n",
    "X_train, X_test, y_train, y_test = train_test_split(features, target, test_size=0.2, random_state=42)\n",
    "\n",
    "# Convert to PyTorch tensors\n",
    "X_train_tensor = torch.tensor(X_train, dtype=torch.float32)\n",
    "X_test_tensor = torch.tensor(X_test, dtype=torch.float32)\n",
    "y_train_tensor = torch.tensor(y_train, dtype=torch.float32)\n",
    "y_test_tensor = torch.tensor(y_test, dtype=torch.float32)\n",
    "\n",
    "# Creating Data Loaders\n",
    "train_data = TensorDataset(X_train_tensor, y_train_tensor)\n",
    "test_data = TensorDataset(X_test_tensor, y_test_tensor)\n",
    "\n",
    "train_loader = DataLoader(train_data, batch_size=64, shuffle=True)\n",
    "test_loader = DataLoader(test_data, batch_size=64, shuffle=False)\n",
    "\n"
   ]
  },
  {
   "cell_type": "code",
   "execution_count": 87,
   "metadata": {},
   "outputs": [
    {
     "name": "stderr",
     "output_type": "stream",
     "text": [
      "Training Progress:   0%|          | 0/100 [00:00<?, ?it/s]"
     ]
    },
    {
     "name": "stderr",
     "output_type": "stream",
     "text": [
      "Training Progress: 100%|██████████| 100/100 [00:54<00:00,  1.84it/s]\n"
     ]
    }
   ],
   "source": [
    "# change num_epochs here\n",
    "num_epochs = 100\n",
    "losses = []\n",
    "\n",
    "# Training Loop with tqdm on the outer loop\n",
    "for epoch in tqdm(range(num_epochs), desc='Training Progress', leave=True):\n",
    "    model.train()\n",
    "    train_loss = 0\n",
    "\n",
    "    for inputs, targets in train_loader:\n",
    "        optimizer.zero_grad()\n",
    "        outputs = model(inputs)\n",
    "        loss = criterion(outputs, targets.view(-1, 1))  # Ensure the targets tensor is correctly shaped\n",
    "        loss.backward()\n",
    "        optimizer.step()\n",
    "        \n",
    "        train_loss += loss.item()\n",
    "    \n",
    "    average_loss = train_loss / len(train_loader)\n",
    "    losses.append(average_loss)\n",
    "    # print every 10 epochs\n",
    "    if (epoch+1) % 1000 == 0:\n",
    "        print(f'Epoch [{epoch+1}/{num_epochs}], Loss: {average_loss:.4f}')\n",
    "    \n",
    "    if (epoch+1) % 100 == 0:\n",
    "        torch.save(model.state_dict(), f'./{modelPath}/{model_name}_epoch{epoch+1}.pth')"
   ]
  },
  {
   "cell_type": "code",
   "execution_count": 88,
   "metadata": {},
   "outputs": [],
   "source": [
    "torch.save(model.state_dict(), modelPath + model_name)"
   ]
  },
  {
   "cell_type": "code",
   "execution_count": 89,
   "metadata": {},
   "outputs": [
    {
     "name": "stdout",
     "output_type": "stream",
     "text": [
      "Test Loss: 579.0524\n"
     ]
    }
   ],
   "source": [
    "# Evaluation\n",
    "model.eval()\n",
    "test_loss = 0\n",
    "\n",
    "with torch.no_grad():\n",
    "    for inputs, targets in test_loader:\n",
    "        outputs = model(inputs)\n",
    "        loss = criterion(outputs, targets.view(-1, 1))\n",
    "        test_loss += loss.item()\n",
    "\n",
    "    average_loss = test_loss / len(test_loader)\n",
    "    print(f'Test Loss: {average_loss:.4f}')\n"
   ]
  },
  {
   "cell_type": "code",
   "execution_count": 90,
   "metadata": {},
   "outputs": [
    {
     "name": "stdout",
     "output_type": "stream",
     "text": [
      "Predicted: 37.877967834472656, Actual: 64.99746704101562\n"
     ]
    }
   ],
   "source": [
    "# try the model with one data comparing the result with the real value\n",
    "model.eval()\n",
    "with torch.no_grad():\n",
    "    test_input = X_test_tensor[29].unsqueeze(0)\n",
    "    test_output = model(test_input)\n",
    "    print(f'Predicted: {test_output.item()}, Actual: {y_test_tensor[0].item()}')\n"
   ]
  },
  {
   "cell_type": "code",
   "execution_count": 91,
   "metadata": {},
   "outputs": [
    {
     "data": {
      "image/png": "[encoded data removed]",
      "text/plain": [
       "<Figure size 1200x600 with 1 Axes>"
      ]
     },
     "metadata": {},
     "output_type": "display_data"
    }
   ],
   "source": [
    "import matplotlib.pyplot as plt\n",
    "\n",
    "# Assuming 'losses' is a list or array containing the loss values for each epoch\n",
    "plt.figure(figsize=(12, 6))\n",
    "plt.plot(losses, label='Training Loss', color='blue', linestyle='-', marker='o')\n",
    "plt.title('Training Loss Over Epochs')\n",
    "plt.xlabel('Epoch')\n",
    "plt.ylabel('Loss')\n",
    "plt.legend()\n",
    "plt.grid(True)\n",
    "plt.savefig(f\"{modelPath}/losses_{model_name[:-4]}.png\")\n",
    "\n"
   ]
  }
 ],
 "metadata": {
  "kernelspec": {
   "display_name": "Python 3",
   "language": "python",
   "name": "python3"
  },
  "language_info": {
   "codemirror_mode": {
    "name": "ipython",
    "version": 3
   },
   "file_extension": ".py",
   "mimetype": "text/x-python",
   "name": "python",
   "nbconvert_exporter": "python",
   "pygments_lexer": "ipython3",
   "version": "3.11.9"
  }
 },
 "nbformat": 4,
 "nbformat_minor": 2
}
