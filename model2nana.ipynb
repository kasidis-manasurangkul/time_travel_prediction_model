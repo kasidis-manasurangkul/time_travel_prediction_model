{
 "cells": [
  {
   "cell_type": "code",
   "execution_count": 111,
   "metadata": {},
   "outputs": [],
   "source": [
    "import torch\n",
    "import torch.nn as nn\n",
    "import torch.nn.functional as F\n",
    "import torch.optim as optim\n",
    "\n",
    "from torch.utils.data import TensorDataset, DataLoader, random_split\n",
    "from sklearn.model_selection import train_test_split\n",
    "from sklearn.preprocessing import StandardScaler\n",
    "from sklearn.metrics import mean_squared_error, mean_absolute_error\n",
    "import numpy as np\n",
    "\n",
    "import zipfile\n",
    "import pandas as pd\n",
    "import os\n",
    "from tqdm import tqdm\n"
   ]
  },
  {
   "cell_type": "code",
   "execution_count": 112,
   "metadata": {},
   "outputs": [],
   "source": [
    "import os\n",
    "import pandas as pd\n",
    "\n",
    "path = 'ChengDuData'\n",
    "csv_files = [f for f in os.listdir(path) if f.endswith('.csv')]\n",
    "\n",
    "combined_dataframe = pd.DataFrame()\n",
    "\n",
    "for file in csv_files:\n",
    "    file_path = os.path.join(path, file)\n",
    "    temp_df = pd.read_csv(file_path)\n",
    "    \n",
    "    # Compute the average travel time\n",
    "    temp_df['Average_Travel_Time'] = temp_df.iloc[:, 8:59].mean(axis=1)\n",
    "    \n",
    "    # Extract time period information from file name\n",
    "    time_period = file.replace('.csv', '').replace('_', ' ')\n",
    "    temp_df['Time_Period'] = time_period\n",
    "\n",
    "    # Select relevant columns (optional, depending on your model requirements)\n",
    "    temp_df = temp_df[['Link', 'Node_Start', 'Longitude_Start', 'Latitude_Start', \n",
    "                       'Node_End', 'Longitude_End', 'Latitude_End', 'Length', \n",
    "                       'Average_Travel_Time', 'Time_Period']]\n",
    "    \n",
    "    combined_dataframe = pd.concat([combined_dataframe, temp_df], ignore_index=True)\n",
    "\n",
    "# Now combined_dataframe contains the processed data\n"
   ]
  },
  {
   "cell_type": "code",
   "execution_count": 113,
   "metadata": {},
   "outputs": [
    {
     "name": "stdout",
     "output_type": "stream",
     "text": [
      "   Link  Node_Start  Longitude_Start  Latitude_Start  Node_End  Longitude_End  \\\n",
      "0     0           0       103.946006       30.750660        16     103.952551   \n",
      "1     1           0       103.946006       30.750660        48     103.956494   \n",
      "2     2           0       103.946006       30.750660        64     103.941276   \n",
      "3     3           1       104.062539       30.739077       311     104.060024   \n",
      "4     4           1       104.062539       30.739077      1288     104.062071   \n",
      "\n",
      "   Latitude_End       Length  Average_Travel_Time       Time_Period  \n",
      "0     30.756752   921.041014            85.424151  Weekday Off peak  \n",
      "1     30.745080  1179.207157           125.386769  Weekday Off peak  \n",
      "2     30.754493   620.905375            53.618874  Weekday Off peak  \n",
      "3     30.742693   467.552294            40.787167  Weekday Off peak  \n",
      "4     30.732501   730.287581            77.209144  Weekday Off peak  \n"
     ]
    }
   ],
   "source": [
    "print(combined_dataframe.head())"
   ]
  },
  {
   "cell_type": "code",
   "execution_count": 114,
   "metadata": {},
   "outputs": [],
   "source": [
    "def haversine(lon1, lat1, lon2, lat2):\n",
    "    # Convert decimal degrees to radians\n",
    "    lon1, lat1, lon2, lat2 = map(np.radians, [lon1, lat1, lon2, lat2])\n",
    "    \n",
    "    # Haversine formula\n",
    "    dlon = lon2 - lon1\n",
    "    dlat = lat2 - lat1\n",
    "    a = np.sin(dlat/2)**2 + np.cos(lat1) * np.cos(lat2) * np.sin(dlon/2)**2\n",
    "    c = 2 * np.arcsin(np.sqrt(a))  # No change required here, but ensure 'a' does not exceed 1\n",
    "    \n",
    "    # 6371 km is the radius of the Earth\n",
    "    km = 6371 * c\n",
    "    return km"
   ]
  },
  {
   "cell_type": "markdown",
   "metadata": {},
   "source": [
    "Preprocessing"
   ]
  },
  {
   "cell_type": "code",
   "execution_count": 115,
   "metadata": {},
   "outputs": [],
   "source": [
    "# Calculate distance and add it as a new feature (haversine)\n",
    "combined_dataframe['Distance'] = combined_dataframe.apply(\n",
    "    lambda row: haversine(row['Longitude_Start'], row['Latitude_Start'],\n",
    "                          row['Longitude_End'], row['Latitude_End']), axis=1)\n",
    "\n",
    "# Features and targets\n",
    "X = combined_dataframe[['Link', 'Node_Start', 'Longitude_Start', 'Latitude_Start', \n",
    "                        'Node_End', 'Longitude_End', 'Latitude_End', 'Distance']].values\n",
    "y = combined_dataframe['Average_Travel_Time'].values  # Assuming this is your target variable\n",
    "\n",
    "# Splitting the dataset into training and validation sets (80% training, 20% validation)\n",
    "X_train, X_val, y_train, y_val = train_test_split(X, y, test_size=0.2, random_state=42)\n",
    "\n",
    "# Normalize features\n",
    "scaler = StandardScaler()\n",
    "X_train_scaled = scaler.fit_transform(X_train)\n",
    "X_val_scaled = scaler.transform(X_val)  # Apply the same transformation to validation data\n",
    "\n",
    "# Convert to torch tensors\n",
    "train_features = torch.tensor(X_train_scaled, dtype=torch.float32)\n",
    "train_labels = torch.tensor(y_train, dtype=torch.float32)\n",
    "val_features = torch.tensor(X_val_scaled, dtype=torch.float32)\n",
    "val_labels = torch.tensor(y_val, dtype=torch.float32) "
   ]
  },
  {
   "cell_type": "code",
   "execution_count": 116,
   "metadata": {},
   "outputs": [],
   "source": [
    "# Creating TensorDataset objects for training and validation sets\n",
    "train_dataset = TensorDataset(train_features, train_labels)\n",
    "val_dataset = TensorDataset(val_features, val_labels)\n",
    "\n",
    "# Creating DataLoader instances to load data in batches\n",
    "# You can adjust the batch_size according to your system's capabilities\n",
    "train_loader = DataLoader(train_dataset, batch_size=64, shuffle=True)\n",
    "val_loader = DataLoader(val_dataset, batch_size=64, shuffle=False)"
   ]
  },
  {
   "cell_type": "markdown",
   "metadata": {},
   "source": [
    "Model Architecture"
   ]
  },
  {
   "cell_type": "code",
   "execution_count": 117,
   "metadata": {},
   "outputs": [],
   "source": [
    "class EnhancedTravelTimePredictor(nn.Module):\n",
    "    def __init__(self):\n",
    "        super(EnhancedTravelTimePredictor, self).__init__()\n",
    "        self.fc1 = nn.Linear(8, 128)  # Adjust input features if necessary\n",
    "        self.bn1 = nn.BatchNorm1d(128)  # Corrected to match the output features of fc1\n",
    "        self.dropout1 = nn.Dropout(0.25)\n",
    "        self.fc2 = nn.Linear(128, 64)\n",
    "        self.bn2 = nn.BatchNorm1d(64)\n",
    "        self.dropout2 = nn.Dropout(0.25)\n",
    "        self.fc3 = nn.Linear(64, 32)\n",
    "        self.bn3 = nn.BatchNorm1d(32)  # Corrected to match the output features of fc3\n",
    "        self.fc4 = nn.Linear(32, 1)\n",
    "\n",
    "    def forward(self, x):\n",
    "        x = torch.relu(self.bn1(self.fc1(x)))\n",
    "        x = self.dropout1(x)\n",
    "        x = torch.relu(self.bn2(self.fc2(x)))\n",
    "        x = self.dropout2(x)\n",
    "        x = torch.relu(self.bn3(self.fc3(x)))\n",
    "        x = self.fc4(x)\n",
    "        return x\n"
   ]
  },
  {
   "cell_type": "code",
   "execution_count": 118,
   "metadata": {},
   "outputs": [],
   "source": [
    "#model instantiation\n",
    "model = EnhancedTravelTimePredictor()\n",
    "optimizer = optim.Adam(model.parameters(), lr=0.001)\n",
    "criterion = nn.MSELoss()\n",
    "scheduler = optim.lr_scheduler.StepLR(optimizer, step_size=100, gamma=0.1) #learning rate"
   ]
  },
  {
   "cell_type": "code",
   "execution_count": 119,
   "metadata": {},
   "outputs": [],
   "source": [
    "#checkpoint saving\n",
    "model_path = './model_checkpoints'\n",
    "os.makedirs(model_path, exist_ok=True)\n",
    "checkpoint_name = os.path.join(model_path, 'checkpoint_{epoch}.pth')"
   ]
  },
  {
   "cell_type": "markdown",
   "metadata": {},
   "source": [
    "Model Training"
   ]
  },
  {
   "cell_type": "code",
   "execution_count": 120,
   "metadata": {},
   "outputs": [
    {
     "data": {
      "text/plain": [
       "EnhancedTravelTimePredictor(\n",
       "  (fc1): Linear(in_features=8, out_features=128, bias=True)\n",
       "  (bn1): BatchNorm1d(128, eps=1e-05, momentum=0.1, affine=True, track_running_stats=True)\n",
       "  (dropout1): Dropout(p=0.25, inplace=False)\n",
       "  (fc2): Linear(in_features=128, out_features=64, bias=True)\n",
       "  (bn2): BatchNorm1d(64, eps=1e-05, momentum=0.1, affine=True, track_running_stats=True)\n",
       "  (dropout2): Dropout(p=0.25, inplace=False)\n",
       "  (fc3): Linear(in_features=64, out_features=32, bias=True)\n",
       "  (bn3): BatchNorm1d(32, eps=1e-05, momentum=0.1, affine=True, track_running_stats=True)\n",
       "  (fc4): Linear(in_features=32, out_features=1, bias=True)\n",
       ")"
      ]
     },
     "execution_count": 120,
     "metadata": {},
     "output_type": "execute_result"
    }
   ],
   "source": [
    "#if gpu not enough eiei norng momo\n",
    "\n",
    "device = torch.device(\"cuda\" if torch.cuda.is_available() else \"cpu\")\n",
    "model.to(device)  # Move model to the appropriate device\n"
   ]
  },
  {
   "cell_type": "code",
   "execution_count": 121,
   "metadata": {},
   "outputs": [
    {
     "name": "stdout",
     "output_type": "stream",
     "text": [
      "Epoch 10/25000, Train Loss: 685.0785, Train MAE: 15.6219, Train RMSE: 26.1961, Val Loss: 615.0244, Val MAE: 14.3231, Val RMSE: 24.8697\n",
      "Stopping early at epoch 13\n"
     ]
    }
   ],
   "source": [
    "num_epochs = 25000\n",
    "early_stopping_threshold = 5  # Define the early stopping threshold\n",
    "best_val_loss = np.inf\n",
    "patience_counter = 0\n",
    "\n",
    "# Initialising lists to hold metrics\n",
    "train_mae, val_mae = [], []\n",
    "train_rmse, val_rmse = [], []\n",
    "train_losses, val_losses = [], []\n",
    "    \n",
    "for epoch in range(num_epochs):\n",
    "    # Training phase setup\n",
    "    model.train()\n",
    "    epoch_train_losses, train_predictions, train_targets = [], [], []\n",
    "    for inputs, targets in train_loader:\n",
    "        inputs, targets = inputs.to(device), targets.to(device)\n",
    "        optimizer.zero_grad()\n",
    "        outputs = model(inputs)\n",
    "        outputs = outputs.squeeze()  # Adjust if necessary for your model's output shape\n",
    "        loss = criterion(outputs, targets)\n",
    "        loss.backward()\n",
    "        optimizer.step()\n",
    "        \n",
    "        epoch_train_losses.append(loss.item())  # Collect loss for each batch\n",
    "        \n",
    "        # Collect predictions and targets for metrics calculation\n",
    "        train_predictions.extend(outputs.detach().cpu().numpy())\n",
    "        train_targets.extend(targets.cpu().numpy())\n",
    "\n",
    "    avg_train_loss = np.mean(epoch_train_losses)\n",
    "    train_losses.append(avg_train_loss)  # Append average training loss for the epoch\n",
    "    \n",
    "    # Calculate and update training metrics\n",
    "    epoch_train_mae = mean_absolute_error(train_targets, train_predictions)\n",
    "    epoch_train_rmse = np.sqrt(mean_squared_error(train_targets, train_predictions))\n",
    "    train_mae.append(epoch_train_mae)\n",
    "    train_rmse.append(epoch_train_rmse)\n",
    "\n",
    "    # Validation phase setup\n",
    "    model.eval()\n",
    "    val_predictions, val_targets, epoch_val_losses = [], [], []\n",
    "    with torch.no_grad():\n",
    "        for inputs, targets in val_loader:\n",
    "            inputs, targets = inputs.to(device), targets.to(device)\n",
    "            outputs = model(inputs).squeeze()  # Adjust if necessary\n",
    "            loss = criterion(outputs, targets)\n",
    "            \n",
    "            epoch_val_losses.append(loss.item())\n",
    "            \n",
    "            # Collect predictions and targets for metrics calculation\n",
    "            val_predictions.extend(outputs.detach().cpu().numpy())\n",
    "            val_targets.extend(targets.cpu().numpy())\n",
    "\n",
    "    avg_val_loss = np.mean(epoch_val_losses)\n",
    "    val_losses.append(avg_val_loss)\n",
    "\n",
    "    # Calculate and append validation metrics\n",
    "    epoch_val_mae = mean_absolute_error(val_targets, val_predictions)\n",
    "    epoch_val_rmse = np.sqrt(mean_squared_error(val_targets, val_predictions))\n",
    "    val_mae.append(epoch_val_mae)\n",
    "    val_rmse.append(epoch_val_rmse)\n",
    "\n",
    "    # Optional: logging for training and validation\n",
    "    if (epoch + 1) % 10 == 0:\n",
    "        print(f'Epoch {epoch+1}/{num_epochs}, Train Loss: {avg_train_loss:.4f}, Train MAE: {epoch_train_mae:.4f}, Train RMSE: {epoch_train_rmse:.4f}, Val Loss: {avg_val_loss:.4f}, Val MAE: {epoch_val_mae:.4f}, Val RMSE: {epoch_val_rmse:.4f}')\n",
    "\n",
    "    # Update the learning rate scheduler\n",
    "    scheduler.step()\n",
    "\n",
    "    # Check for early stopping\n",
    "    if val_losses[-1] < best_val_loss:\n",
    "        best_val_loss = val_losses[-1]\n",
    "        patience_counter = 0\n",
    "    else:\n",
    "        patience_counter += 1\n",
    "        if patience_counter >= early_stopping_threshold:\n",
    "            print(f\"Stopping early at epoch {epoch + 1}\")\n",
    "            break\n",
    "\n",
    "# Adjust epochs range for plotting based on actual epochs run\n",
    "epochs_adjusted = range(1, epoch + 2)  # Adjusted range\n",
    "\n"
   ]
  },
  {
   "cell_type": "code",
   "execution_count": 122,
   "metadata": {},
   "outputs": [],
   "source": [
    "# Save the model\n",
    "path = 'models/'\n",
    "# change name modle here\n",
    "model_name = 'model2.pth'\n",
    "torch.save(model.state_dict(), path + model_name)"
   ]
  },
  {
   "cell_type": "code",
   "execution_count": 123,
   "metadata": {},
   "outputs": [
    {
     "name": "stdout",
     "output_type": "stream",
     "text": [
      "Actual value: 64.99746704101562\n",
      "Predicted value: 76.62176513671875\n",
      "Prediction error: 11.624298095703125\n"
     ]
    }
   ],
   "source": [
    "def try_single_prediction(val_loader, model, device):\n",
    "    model.eval()  # Set the model to evaluation mode\n",
    "    with torch.no_grad():  # Disable gradient computation\n",
    "        # Get a single batch from the val_loader\n",
    "        data, target = next(iter(val_loader))\n",
    "        # Move the data and model to the same device\n",
    "        data, target = data.to(device), target.to(device)\n",
    "        model.to(device)\n",
    "        \n",
    "        # Select the first example from the batch\n",
    "        single_data, single_target = data[0:1], target[0:1]\n",
    "        # Predict\n",
    "        prediction = model(single_data)\n",
    "        \n",
    "        # Move prediction back to CPU for item() to work if needed\n",
    "        prediction = prediction.cpu()\n",
    "        single_target = single_target.cpu()\n",
    "        \n",
    "        # Print the results\n",
    "        print(f'Actual value: {single_target.item()}')\n",
    "        print(f'Predicted value: {prediction.item()}')\n",
    "        # Optionally, you can return these values for further processing\n",
    "        return single_target.item(), prediction.item()\n",
    "\n",
    "# Assuming 'device' is defined as follows:\n",
    "device = torch.device(\"cuda\" if torch.cuda.is_available() else \"cpu\")\n",
    "\n",
    "# After training, try the model with one data point\n",
    "actual, predicted = try_single_prediction(val_loader, model, device)\n",
    "\n",
    "# Optionally, calculate the error for this single prediction\n",
    "error = abs(actual - predicted)\n",
    "print(f'Prediction error: {error}')\n"
   ]
  },
  {
   "cell_type": "markdown",
   "metadata": {},
   "source": [
    "Graphical analysis of model performance"
   ]
  },
  {
   "cell_type": "code",
   "execution_count": 124,
   "metadata": {},
   "outputs": [
    {
     "data": {
      "image/png": "[encoded data removed]",
      "text/plain": [
       "<Figure size 2000x700 with 2 Axes>"
      ]
     },
     "metadata": {},
     "output_type": "display_data"
    }
   ],
   "source": [
    "import matplotlib.pyplot as plt\n",
    "import numpy as np\n",
    "\n",
    "# Adjust epochs range for plotting based on actual epochs run\n",
    "epochs_adjusted = range(1, epoch + 2)  \n",
    "\n",
    "# Learning curve plotting for MAE and RMSE\n",
    "fig, ax = plt.subplots(1, 2, figsize=(20, 7))\n",
    "\n",
    "# MAE Plot\n",
    "ax[0].plot(epochs_adjusted, train_mae, 'b', label='Training MAE')\n",
    "ax[0].plot(epochs_adjusted, val_mae, 'r', label='Validation MAE')\n",
    "ax[0].set_title('Training and Validation MAE')\n",
    "ax[0].set_xlabel('Epochs')\n",
    "ax[0].set_ylabel('MAE')\n",
    "ax[0].legend()\n",
    "\n",
    "# RMSE Plot\n",
    "ax[1].plot(epochs_adjusted, train_rmse, 'b', label='Training RMSE')\n",
    "ax[1].plot(epochs_adjusted, val_rmse, 'r', label='Validation RMSE')\n",
    "ax[1].set_title('Training and Validation RMSE')\n",
    "ax[1].set_xlabel('Epochs')\n",
    "ax[1].set_ylabel('RMSE')\n",
    "ax[1].legend()\n",
    "\n",
    "plt.show()\n"
   ]
  }
 ],
 "metadata": {
  "kernelspec": {
   "display_name": "Python 3",
   "language": "python",
   "name": "python3"
  },
  "language_info": {
   "codemirror_mode": {
    "name": "ipython",
    "version": 3
   },
   "file_extension": ".py",
   "mimetype": "text/x-python",
   "name": "python",
   "nbconvert_exporter": "python",
   "pygments_lexer": "ipython3",
   "version": "3.11.7"
  }
 },
 "nbformat": 4,
 "nbformat_minor": 2
}
